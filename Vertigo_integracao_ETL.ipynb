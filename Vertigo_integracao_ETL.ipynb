{
 "cells": [
  {
   "cell_type": "code",
   "execution_count": 0,
   "metadata": {
    "application/vnd.databricks.v1+cell": {
     "cellMetadata": {
      "byteLimit": 2048000,
      "rowLimit": 10000
     },
     "inputWidgets": {},
     "nuid": "fab32e00-7ba8-4bad-9775-dcef3a800408",
     "showTitle": false,
     "title": ""
    }
   },
   "outputs": [],
   "source": [
    "from pyspark.sql import SparkSession\n",
    "from pyspark.sql import DataFrame\n",
    "from pyspark.sql.utils import AnalysisException\n",
    "from delta.tables import *\n",
    "from pyspark.sql import functions as F"
   ]
  },
  {
   "cell_type": "code",
   "execution_count": 0,
   "metadata": {
    "application/vnd.databricks.v1+cell": {
     "cellMetadata": {
      "byteLimit": 2048000,
      "rowLimit": 10000
     },
     "inputWidgets": {},
     "nuid": "87970a75-8e1b-49d0-935e-eed843c15be9",
     "showTitle": true,
     "title": "Credenciais de acesso ao banco"
    }
   },
   "outputs": [],
   "source": [
    "jdbcUsername = 'wlkkathxvpzhpvfcveqrxeig@psql-mock-database-cloud'\n",
    "jdbcPassword = 'vdqamaealbmsocpjmeeprcwf'\n",
    "jdbcHostname = 'psql-mock-database-cloud.postgres.database.azure.com'\n",
    "jdbcPort = 5432\n",
    "jdbcDatabase = 'ecom1691087984366inbesicysqojdtiq'"
   ]
  },
  {
   "cell_type": "code",
   "execution_count": 0,
   "metadata": {
    "application/vnd.databricks.v1+cell": {
     "cellMetadata": {
      "byteLimit": 2048000,
      "rowLimit": 10000
     },
     "inputWidgets": {},
     "nuid": "e442865d-9628-4361-9f2a-15eb94bf4335",
     "showTitle": true,
     "title": "Sparksession"
    }
   },
   "outputs": [],
   "source": [
    "spark = (SparkSession.builder\n",
    "        .appName('ListTablesExample')\n",
    "        .getOrCreate())\n",
    "\n",
    "jdbcUrl = f'jdbc:postgresql://{jdbcHostname}:{jdbcPort}/{jdbcDatabase}'\n"
   ]
  },
  {
   "cell_type": "code",
   "execution_count": 0,
   "metadata": {
    "application/vnd.databricks.v1+cell": {
     "cellMetadata": {
      "byteLimit": 2048000,
      "rowLimit": 10000
     },
     "inputWidgets": {},
     "nuid": "af96eade-92e0-4b36-9d59-0859d2686687",
     "showTitle": true,
     "title": "Declaração de Funções"
    }
   },
   "outputs": [],
   "source": [
    "def lerTabela(tabela):\n",
    "    df = spark.read.jdbc(url=jdbcUrl, table= tabela, properties={\n",
    "    'user': jdbcUsername,\n",
    "    'password': jdbcPassword,\n",
    "    'driver': 'org.postgresql.Driver'\n",
    "    })\n",
    "    return df\n",
    "\n",
    "def deletaTabelas():\n",
    "    # Caminho do diretório que você deseja dropar (excluir)\n",
    "    caminho_do_diretorio = \"dbfs:/user/hive/warehouse/\"\n",
    "\n",
    "    # Dropar (excluir) o diretório recursivamente\n",
    "    dbutils.fs.rm(caminho_do_diretorio, True)"
   ]
  },
  {
   "cell_type": "code",
   "execution_count": 0,
   "metadata": {
    "application/vnd.databricks.v1+cell": {
     "cellMetadata": {
      "byteLimit": 2048000,
      "rowLimit": 10000
     },
     "inputWidgets": {},
     "nuid": "5c0995bc-b9db-44ce-abec-6e9a6057b302",
     "showTitle": true,
     "title": "Cria arquivos .parquet no DBFS"
    }
   },
   "outputs": [
    {
     "output_type": "stream",
     "name": "stdout",
     "output_type": "stream",
     "text": [
      "lendo tabela: customers.\nparquet criado com sucesso\nlendo tabela: employees.\nparquet criado com sucesso\nlendo tabela: offices.\nparquet criado com sucesso\nlendo tabela: orderdetails.\nparquet criado com sucesso\nlendo tabela: orders.\nparquet criado com sucesso\nlendo tabela: payments.\nparquet criado com sucesso\nlendo tabela: product_lines.\nparquet criado com sucesso\nlendo tabela: products.\nparquet criado com sucesso\n"
     ]
    }
   ],
   "source": [
    "tabelas = ['customers', 'employees', 'offices', 'orderdetails', 'orders', 'payments', 'product_lines', 'products']\n",
    "\n",
    "for tabela in tabelas:\n",
    "    try:\n",
    "        print(f'lendo tabela: {tabela}.')\n",
    "        df = lerTabela(tabela)\n",
    "        \n",
    "        parquetFilePath = f'dbfs:/ecommerce_db/{tabela}.parquet'\n",
    "        df.write.format('parquet').mode('overwrite').parquet(parquetFilePath)\n",
    "    \n",
    "    except Exception as e:\n",
    "        print(e)\n",
    "\n",
    "    else:\n",
    "        print('parquet criado com sucesso')\n"
   ]
  },
  {
   "cell_type": "code",
   "execution_count": 0,
   "metadata": {
    "application/vnd.databricks.v1+cell": {
     "cellMetadata": {
      "byteLimit": 2048000,
      "rowLimit": 10000
     },
     "inputWidgets": {},
     "nuid": "b026a625-0987-4298-baaf-c795939300a6",
     "showTitle": true,
     "title": "Confere arquivos criados"
    }
   },
   "outputs": [
    {
     "output_type": "display_data",
     "data": {
      "text/html": [
       "<style scoped>\n",
       "  .table-result-container {\n",
       "    max-height: 300px;\n",
       "    overflow: auto;\n",
       "  }\n",
       "  table, th, td {\n",
       "    border: 1px solid black;\n",
       "    border-collapse: collapse;\n",
       "  }\n",
       "  th, td {\n",
       "    padding: 5px;\n",
       "  }\n",
       "  th {\n",
       "    text-align: left;\n",
       "  }\n",
       "</style><div class='table-result-container'><table class='table-result'><thead style='background-color: white'><tr><th>path</th><th>name</th><th>size</th><th>modificationTime</th></tr></thead><tbody><tr><td>dbfs:/ecommerce_db/customers.parquet/</td><td>customers.parquet/</td><td>0</td><td>0</td></tr><tr><td>dbfs:/ecommerce_db/employees.parquet/</td><td>employees.parquet/</td><td>0</td><td>0</td></tr><tr><td>dbfs:/ecommerce_db/offices.parquet/</td><td>offices.parquet/</td><td>0</td><td>0</td></tr><tr><td>dbfs:/ecommerce_db/orderdetails.parquet/</td><td>orderdetails.parquet/</td><td>0</td><td>0</td></tr><tr><td>dbfs:/ecommerce_db/orders.parquet/</td><td>orders.parquet/</td><td>0</td><td>0</td></tr><tr><td>dbfs:/ecommerce_db/payments.parquet/</td><td>payments.parquet/</td><td>0</td><td>0</td></tr><tr><td>dbfs:/ecommerce_db/product_lines.parquet/</td><td>product_lines.parquet/</td><td>0</td><td>0</td></tr><tr><td>dbfs:/ecommerce_db/products.parquet/</td><td>products.parquet/</td><td>0</td><td>0</td></tr></tbody></table></div>"
      ]
     },
     "metadata": {
      "application/vnd.databricks.v1+output": {
       "addedWidgets": {},
       "aggData": [],
       "aggError": "",
       "aggOverflow": false,
       "aggSchema": [],
       "aggSeriesLimitReached": false,
       "aggType": "",
       "arguments": {},
       "columnCustomDisplayInfos": {},
       "data": [
        [
         "dbfs:/ecommerce_db/customers.parquet/",
         "customers.parquet/",
         0,
         0
        ],
        [
         "dbfs:/ecommerce_db/employees.parquet/",
         "employees.parquet/",
         0,
         0
        ],
        [
         "dbfs:/ecommerce_db/offices.parquet/",
         "offices.parquet/",
         0,
         0
        ],
        [
         "dbfs:/ecommerce_db/orderdetails.parquet/",
         "orderdetails.parquet/",
         0,
         0
        ],
        [
         "dbfs:/ecommerce_db/orders.parquet/",
         "orders.parquet/",
         0,
         0
        ],
        [
         "dbfs:/ecommerce_db/payments.parquet/",
         "payments.parquet/",
         0,
         0
        ],
        [
         "dbfs:/ecommerce_db/product_lines.parquet/",
         "product_lines.parquet/",
         0,
         0
        ],
        [
         "dbfs:/ecommerce_db/products.parquet/",
         "products.parquet/",
         0,
         0
        ]
       ],
       "datasetInfos": [],
       "dbfsResultPath": null,
       "isJsonSchema": true,
       "metadata": {
        "isDbfsCommandResult": false
       },
       "overflow": false,
       "plotOptions": {
        "customPlotOptions": {},
        "displayType": "table",
        "pivotAggregation": null,
        "pivotColumns": null,
        "xColumns": null,
        "yColumns": null
       },
       "removedWidgets": [],
       "schema": [
        {
         "metadata": "{}",
         "name": "path",
         "type": "\"string\""
        },
        {
         "metadata": "{}",
         "name": "name",
         "type": "\"string\""
        },
        {
         "metadata": "{}",
         "name": "size",
         "type": "\"long\""
        },
        {
         "metadata": "{}",
         "name": "modificationTime",
         "type": "\"long\""
        }
       ],
       "type": "table"
      }
     },
     "output_type": "display_data"
    }
   ],
   "source": [
    "%fs ls dbfs:/ecommerce_db/"
   ]
  },
  {
   "cell_type": "code",
   "execution_count": 0,
   "metadata": {
    "application/vnd.databricks.v1+cell": {
     "cellMetadata": {
      "byteLimit": 2048000,
      "rowLimit": 10000
     },
     "inputWidgets": {},
     "nuid": "e31ff034-13ef-4b07-9253-9d8eec340784",
     "showTitle": true,
     "title": "Cria delta tables a partir dos arquivos .parquet"
    }
   },
   "outputs": [
    {
     "output_type": "stream",
     "name": "stdout",
     "output_type": "stream",
     "text": [
      "Tabela delta_customers criada com sucesso\nTabela delta_employees criada com sucesso\nTabela delta_offices criada com sucesso\nTabela delta_orderdetails criada com sucesso\nTabela delta_orders criada com sucesso\nTabela delta_payments criada com sucesso\nTabela delta_product_lines criada com sucesso\nTabela delta_products criada com sucesso\n"
     ]
    }
   ],
   "source": [
    "pathEcommerceFiles = 'dbfs:/ecommerce_db'\n",
    "arquivos = dbutils.fs.ls(pathEcommerceFiles)\n",
    "columns = {}\n",
    "\n",
    "for arquivo in arquivos:\n",
    "    nomeFormatado = str.replace(arquivo.name, '.parquet/','')\n",
    "    deltaTableName = 'delta_' + nomeFormatado\n",
    "    df = spark.read.format('parquet').load(str(arquivo.path))\n",
    "    columns[nomeFormatado] = df.columns\n",
    "\n",
    "    try:\n",
    "        if spark.catalog.tableExists(deltaTableName):\n",
    "            print(f'A tabela {deltaTableName} já existe.')\n",
    "        else:\n",
    "            df.write.format('delta').saveAsTable(deltaTableName)\n",
    "            print('Tabela', deltaTableName, 'criada com sucesso')\n",
    "\n",
    "    except Exception as e:\n",
    "        print(e)"
   ]
  },
  {
   "cell_type": "code",
   "execution_count": 0,
   "metadata": {
    "application/vnd.databricks.v1+cell": {
     "cellMetadata": {
      "byteLimit": 2048000,
      "rowLimit": 10000
     },
     "inputWidgets": {},
     "nuid": "23206c52-18b4-48c0-894d-0bf5de1f7b02",
     "showTitle": true,
     "title": "MERGE"
    }
   },
   "outputs": [
    {
     "output_type": "display_data",
     "data": {
      "text/plain": [
       ""
      ]
     },
     "metadata": {
      "application/vnd.databricks.v1+output": {
       "arguments": {},
       "data": "",
       "errorSummary": "Command skipped",
       "errorTraceType": "ansi",
       "metadata": {},
       "type": "ipynbError"
      }
     },
     "output_type": "display_data"
    }
   ],
   "source": [
    "pathEcommerceFiles = 'dbfs:/ecommerce_db'\n",
    "arquivos = dbutils.fs.ls(pathEcommerceFiles)\n",
    "colunasDelta = {}\n",
    "primaryKey = {'delta_offices':'office_code',\n",
    "              'delta_customers':'custumer_number',\n",
    "              'delta_employees':'employee_number',\n",
    "              'delta_orderdetails': 'order_number',\n",
    "              'delta_orders':'order_number',\n",
    "              'delta_payments':'customer_number',\n",
    "              'delta_product_lines':'product_line',\n",
    "              'delta_products':'product_code'}\n",
    "\n",
    "for arquivo in arquivos:\n",
    "    nomeFormatado = str.replace(arquivo.name, '.parquet/','')\n",
    "    deltaTableName = 'delta_' + nomeFormatado\n",
    "    dfParquet = spark.read.format('parquet').load(str(arquivo.path))\n",
    "    \n",
    "    colunasDelta.update(dfParquet.columns)\n",
    "\n",
    "    try:\n",
    "        df_delta = spark.read.format('delta').table(deltaTableName)\n",
    "        \n",
    "        deltaTable = DeltaTable.forPath(spark, deltaTableName)\n",
    "        deltaTable.alias('deltaTable').merge(dfParquet.alias('dfParquet'), f'deltaTable.{primaryKey[deltaTableName]} = dfParquet.{primaryKey[deltaTableName]}') \\\n",
    "                        .whenMatchedUpdate(set=dict((col, f'dfParquet.{col}') for col in colunasDelta)) \\\n",
    "                        .whenNotMatchedInsert(values=dict((col, f'dfParquet.{col}') for col in colunasDelta)) \\\n",
    "                        .whenNotMatchedDelete() \\\n",
    "                        .execute()\n",
    "\n",
    "        print('Dados mesclados com sucesso para a tabela', deltaTableName)\n",
    "\n",
    "    except Exception as e:\n",
    "        print(e)\n"
   ]
  },
  {
   "cell_type": "code",
   "execution_count": 0,
   "metadata": {
    "application/vnd.databricks.v1+cell": {
     "cellMetadata": {
      "byteLimit": 2048000,
      "implicitDf": true,
      "rowLimit": 10000
     },
     "inputWidgets": {},
     "nuid": "ccfbe7dc-b5a4-4357-a45c-7092c5abab25",
     "showTitle": true,
     "title": "País com mais pedidos cancelados"
    }
   },
   "outputs": [
    {
     "output_type": "display_data",
     "data": {
      "text/html": [
       "<style scoped>\n",
       "  .table-result-container {\n",
       "    max-height: 300px;\n",
       "    overflow: auto;\n",
       "  }\n",
       "  table, th, td {\n",
       "    border: 1px solid black;\n",
       "    border-collapse: collapse;\n",
       "  }\n",
       "  th, td {\n",
       "    padding: 5px;\n",
       "  }\n",
       "  th {\n",
       "    text-align: left;\n",
       "  }\n",
       "</style><div class='table-result-container'><table class='table-result'><thead style='background-color: white'><tr><th>country</th><th>contador</th></tr></thead><tbody><tr><td>New Zealand</td><td>2</td></tr></tbody></table></div>"
      ]
     },
     "metadata": {
      "application/vnd.databricks.v1+output": {
       "addedWidgets": {},
       "aggData": [],
       "aggError": "",
       "aggOverflow": false,
       "aggSchema": [],
       "aggSeriesLimitReached": false,
       "aggType": "",
       "arguments": {},
       "columnCustomDisplayInfos": {},
       "data": [
        [
         "New Zealand",
         2
        ]
       ],
       "datasetInfos": [],
       "dbfsResultPath": null,
       "isJsonSchema": true,
       "metadata": {},
       "overflow": false,
       "plotOptions": {
        "customPlotOptions": {},
        "displayType": "table",
        "pivotAggregation": null,
        "pivotColumns": null,
        "xColumns": null,
        "yColumns": null
       },
       "removedWidgets": [],
       "schema": [
        {
         "metadata": "{\"scale\":0}",
         "name": "country",
         "type": "\"string\""
        },
        {
         "metadata": "{}",
         "name": "contador",
         "type": "\"long\""
        }
       ],
       "type": "table"
      }
     },
     "output_type": "display_data"
    }
   ],
   "source": [
    "%sql\n",
    "select \n",
    "\tc.country, \n",
    "\tcount(country) as contador \n",
    "from delta_orders o\n",
    "join delta_customers c on o.customer_number = c.customer_number \n",
    "where o.status = 'Cancelled'\n",
    "group by c.country\n",
    "order by contador desc\n",
    "limit 1"
   ]
  },
  {
   "cell_type": "code",
   "execution_count": 0,
   "metadata": {
    "application/vnd.databricks.v1+cell": {
     "cellMetadata": {
      "byteLimit": 2048000,
      "implicitDf": true,
      "rowLimit": 10000
     },
     "inputWidgets": {},
     "nuid": "9873692f-63fe-40eb-98f4-e3088d37d0ce",
     "showTitle": true,
     "title": "Produto com maior faturamento no ano de 2005"
    }
   },
   "outputs": [
    {
     "output_type": "display_data",
     "data": {
      "text/html": [
       "<style scoped>\n",
       "  .table-result-container {\n",
       "    max-height: 300px;\n",
       "    overflow: auto;\n",
       "  }\n",
       "  table, th, td {\n",
       "    border: 1px solid black;\n",
       "    border-collapse: collapse;\n",
       "  }\n",
       "  th, td {\n",
       "    padding: 5px;\n",
       "  }\n",
       "  th {\n",
       "    text-align: left;\n",
       "  }\n",
       "</style><div class='table-result-container'><table class='table-result'><thead style='background-color: white'><tr><th>product_code</th><th>faturado</th></tr></thead><tbody><tr><td>S18_3232</td><td>52978.28</td></tr></tbody></table></div>"
      ]
     },
     "metadata": {
      "application/vnd.databricks.v1+output": {
       "addedWidgets": {},
       "aggData": [],
       "aggError": "",
       "aggOverflow": false,
       "aggSchema": [],
       "aggSeriesLimitReached": false,
       "aggType": "",
       "arguments": {},
       "columnCustomDisplayInfos": {},
       "data": [
        [
         "S18_3232",
         "52978.28"
        ]
       ],
       "datasetInfos": [],
       "dbfsResultPath": null,
       "isJsonSchema": true,
       "metadata": {},
       "overflow": false,
       "plotOptions": {
        "customPlotOptions": {},
        "displayType": "table",
        "pivotAggregation": null,
        "pivotColumns": null,
        "xColumns": null,
        "yColumns": null
       },
       "removedWidgets": [],
       "schema": [
        {
         "metadata": "{\"scale\":0}",
         "name": "product_code",
         "type": "\"string\""
        },
        {
         "metadata": "{}",
         "name": "faturado",
         "type": "\"decimal(31,2)\""
        }
       ],
       "type": "table"
      }
     },
     "output_type": "display_data"
    }
   ],
   "source": [
    "%sql\n",
    "select\n",
    "\to2.product_code, \n",
    "\tsum(price_each * quantity_ordered) as faturado\n",
    "from delta_orders o \n",
    "join delta_orderdetails o2 on o.order_number = o2.order_number \n",
    "\t\t\t\t\tand o.status = 'Shipped' \n",
    "\t\t\t\t\tand extract(year from order_date) = 2005\n",
    "group by product_code\n",
    "order by faturado desc\n",
    "limit 1"
   ]
  },
  {
   "cell_type": "code",
   "execution_count": 0,
   "metadata": {
    "application/vnd.databricks.v1+cell": {
     "cellMetadata": {
      "byteLimit": 2048000,
      "implicitDf": true,
      "rowLimit": 10000
     },
     "inputWidgets": {},
     "nuid": "c67d214f-e893-42e1-9a62-74174b042fb0",
     "showTitle": true,
     "title": "Vendedores do Japão com e-mail mascarado"
    }
   },
   "outputs": [
    {
     "output_type": "display_data",
     "data": {
      "text/html": [
       "<style scoped>\n",
       "  .table-result-container {\n",
       "    max-height: 300px;\n",
       "    overflow: auto;\n",
       "  }\n",
       "  table, th, td {\n",
       "    border: 1px solid black;\n",
       "    border-collapse: collapse;\n",
       "  }\n",
       "  th, td {\n",
       "    padding: 5px;\n",
       "  }\n",
       "  th {\n",
       "    text-align: left;\n",
       "  }\n",
       "</style><div class='table-result-container'><table class='table-result'><thead style='background-color: white'><tr><th>first_name</th><th>last_name</th><th>email_mascarado</th></tr></thead><tbody><tr><td>Mami</td><td>Nishi</td><td>xxx@classicmodelcars.com</td></tr><tr><td>Yoshimi</td><td>Kato</td><td>xxx@classicmodelcars.com</td></tr></tbody></table></div>"
      ]
     },
     "metadata": {
      "application/vnd.databricks.v1+output": {
       "addedWidgets": {},
       "aggData": [],
       "aggError": "",
       "aggOverflow": false,
       "aggSchema": [],
       "aggSeriesLimitReached": false,
       "aggType": "",
       "arguments": {},
       "columnCustomDisplayInfos": {},
       "data": [
        [
         "Mami",
         "Nishi",
         "xxx@classicmodelcars.com"
        ],
        [
         "Yoshimi",
         "Kato",
         "xxx@classicmodelcars.com"
        ]
       ],
       "datasetInfos": [],
       "dbfsResultPath": null,
       "isJsonSchema": true,
       "metadata": {},
       "overflow": false,
       "plotOptions": {
        "customPlotOptions": {},
        "displayType": "table",
        "pivotAggregation": null,
        "pivotColumns": null,
        "xColumns": null,
        "yColumns": null
       },
       "removedWidgets": [],
       "schema": [
        {
         "metadata": "{\"scale\":0}",
         "name": "first_name",
         "type": "\"string\""
        },
        {
         "metadata": "{\"scale\":0}",
         "name": "last_name",
         "type": "\"string\""
        },
        {
         "metadata": "{}",
         "name": "email_mascarado",
         "type": "\"string\""
        }
       ],
       "type": "table"
      }
     },
     "output_type": "display_data"
    }
   ],
   "source": [
    "%sql\n",
    "select \n",
    "\tfirst_name, \n",
    "\tlast_name, \n",
    "\tregexp_replace(email, '^[^@]+', 'xxx') as email_mascarado\n",
    "from delta_employees e\n",
    "join delta_offices o on e.office_code = o.office_code \n",
    "\t\t\t  and country = 'Japan'"
   ]
  }
 ],
 "metadata": {
  "application/vnd.databricks.v1+notebook": {
   "dashboards": [],
   "language": "python",
   "notebookMetadata": {
    "mostRecentlyExecutedCommandWithImplicitDF": {
     "commandId": 3445867612028662,
     "dataframes": [
      "_sqldf"
     ]
    },
    "pythonIndentUnit": 4
   },
   "notebookName": "Vertigo_integracao_ETL",
   "widgets": {}
  }
 },
 "nbformat": 4,
 "nbformat_minor": 0
}
